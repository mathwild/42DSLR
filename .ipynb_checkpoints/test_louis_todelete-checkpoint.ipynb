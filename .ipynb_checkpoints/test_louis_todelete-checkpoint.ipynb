{
 "cells": [
  {
   "cell_type": "code",
   "execution_count": 1,
   "metadata": {
    "collapsed": true
   },
   "outputs": [],
   "source": [
    "import numpy as np\n",
    "from scipy import optimize \n",
    "\n",
    "from mydataset import MyDataSet\n",
    "from preprocessing import get_dummies, full_one_hot_encoder, to_matrix\n",
    "from louismodel import LogRegModel"
   ]
  },
  {
   "cell_type": "code",
   "execution_count": 35,
   "metadata": {
    "collapsed": true
   },
   "outputs": [],
   "source": [
    "name_Y = 'Hogwarts House'\n",
    "name_subY1 = 'Gryffindor'\n",
    "name_subY2 = 'Ravenclaw'\n",
    "name_subY3 = 'Hufflepuff'"
   ]
  },
  {
   "cell_type": "code",
   "execution_count": 36,
   "metadata": {},
   "outputs": [
    {
     "name": "stderr",
     "output_type": "stream",
     "text": [
      "/Users/louislimnavong/Documents/GitHub/42DSLR/louismodel.py:44: RuntimeWarning: overflow encountered in exp\n",
      "  return -np.nansum(Y*np.matmul(X,beta) - np.log(1+np.exp(np.matmul(X,beta))))\n",
      "/Users/louislimnavong/anaconda3/lib/python3.6/site-packages/scipy/optimize/optimize.py:643: RuntimeWarning: invalid value encountered in double_scalars\n",
      "  grad[k] = (f(*((xk + d,) + args)) - f0) / d[k]\n",
      "/Users/louislimnavong/Documents/GitHub/42DSLR/louismodel.py:44: RuntimeWarning: overflow encountered in exp\n",
      "  return -np.nansum(Y*np.matmul(X,beta) - np.log(1+np.exp(np.matmul(X,beta))))\n",
      "/Users/louislimnavong/Documents/GitHub/42DSLR/louismodel.py:44: RuntimeWarning: overflow encountered in exp\n",
      "  return -np.nansum(Y*np.matmul(X,beta) - np.log(1+np.exp(np.matmul(X,beta))))\n",
      "/Users/louislimnavong/anaconda3/lib/python3.6/site-packages/scipy/optimize/optimize.py:643: RuntimeWarning: invalid value encountered in double_scalars\n",
      "  grad[k] = (f(*((xk + d,) + args)) - f0) / d[k]\n",
      "/Users/louislimnavong/Documents/GitHub/42DSLR/louismodel.py:44: RuntimeWarning: overflow encountered in exp\n",
      "  return -np.nansum(Y*np.matmul(X,beta) - np.log(1+np.exp(np.matmul(X,beta))))\n",
      "/Users/louislimnavong/Documents/GitHub/42DSLR/louismodel.py:44: RuntimeWarning: overflow encountered in exp\n",
      "  return -np.nansum(Y*np.matmul(X,beta) - np.log(1+np.exp(np.matmul(X,beta))))\n",
      "/Users/louislimnavong/anaconda3/lib/python3.6/site-packages/scipy/optimize/optimize.py:643: RuntimeWarning: invalid value encountered in double_scalars\n",
      "  grad[k] = (f(*((xk + d,) + args)) - f0) / d[k]\n",
      "/Users/louislimnavong/Documents/GitHub/42DSLR/louismodel.py:44: RuntimeWarning: overflow encountered in exp\n",
      "  return -np.nansum(Y*np.matmul(X,beta) - np.log(1+np.exp(np.matmul(X,beta))))\n",
      "/Users/louislimnavong/Documents/GitHub/42DSLR/louismodel.py:44: RuntimeWarning: overflow encountered in exp\n",
      "  return -np.nansum(Y*np.matmul(X,beta) - np.log(1+np.exp(np.matmul(X,beta))))\n",
      "/Users/louislimnavong/anaconda3/lib/python3.6/site-packages/scipy/optimize/optimize.py:643: RuntimeWarning: invalid value encountered in double_scalars\n",
      "  grad[k] = (f(*((xk + d,) + args)) - f0) / d[k]\n",
      "/Users/louislimnavong/Documents/GitHub/42DSLR/louismodel.py:44: RuntimeWarning: overflow encountered in exp\n",
      "  return -np.nansum(Y*np.matmul(X,beta) - np.log(1+np.exp(np.matmul(X,beta))))\n"
     ]
    }
   ],
   "source": [
    "### TRAIN ###\n",
    "dataset_train = MyDataSet().read_csv('resources/dataset_train.csv')\n",
    "# getting X\n",
    "DictX = dataset_train[['Best Hand','Arithmancy', 'Astronomy']]\n",
    "DictX_encod = full_one_hot_encoder(DictX)\n",
    "X = to_matrix(DictX_encod)\n",
    "# getting Y\n",
    "Y = dataset_train[name_Y]\n",
    "###\n",
    "\n",
    "### TEST ### \n",
    "dataset_test = MyDataSet().read_csv('resources/dataset_test.csv')\n",
    "# getting X\n",
    "DictX_test = dataset_test[['Best Hand','Arithmancy', 'Astronomy']]\n",
    "DictX_encod_test = full_one_hot_encoder(DictX_test)\n",
    "X_test = to_matrix(DictX_encod_test)\n",
    "# adding intercept\n",
    "m, p = X_test.shape\n",
    "intercept = np.ones(m)\n",
    "X_test = np.column_stack((intercept,X_test))\n",
    "###\n",
    "\n",
    "### FIT ### \n",
    "model = LogRegModel()\n",
    "model.fit(Y, X_train = X)\n",
    "###"
   ]
  },
  {
   "cell_type": "code",
   "execution_count": 75,
   "metadata": {},
   "outputs": [
    {
     "name": "stdout",
     "output_type": "stream",
     "text": [
      "['Gryffindor', 0.4464150488321146, 'Gryffindor', 'Gryffindor', nan, 0.5760282003202789, 0.568171636986707, 'Gryffindor', 0.5706423511383645, 'Gryffindor']\n",
      "[False  True False False  True  True  True False  True False]\n",
      "[0.48131502641429474, 'Ravenclaw', 0.22627300012591092, 0.3058893788528926, 'Ravenclaw', 'Ravenclaw', 'Ravenclaw', 0.47466246314668853, 'Ravenclaw', 0.21041859657167547]\n"
     ]
    },
    {
     "name": "stderr",
     "output_type": "stream",
     "text": [
      "/Users/louislimnavong/anaconda3/lib/python3.6/site-packages/ipykernel_launcher.py:11: RuntimeWarning: invalid value encountered in maximum\n",
      "  # This is added back by InteractiveShellApp.init_path()\n"
     ]
    }
   ],
   "source": [
    "indiv = X_test[:10]\n",
    "# create a loop - use dictionaries ? \n",
    "\n",
    "## get the maximum probabilities \n",
    "coef1 = model.coef[name_subY1]\n",
    "proba1 = np.exp(np.matmul(indiv,coef1))/(1+(np.exp(np.matmul(indiv,coef1))))\n",
    "coef2 = model.coef[name_subY2]\n",
    "proba2 = np.exp(np.matmul(indiv,coef2))/(1+(np.exp(np.matmul(indiv,coef2))))\n",
    "#coef3 = model.coef[name_subY3]\n",
    "#proba3 = np.exp(np.matmul(indiv,coef3))/(1+(np.exp(np.matmul(indiv,coef3))))\n",
    "pairwise_max = np.maximum(proba1, proba2)\n",
    "#pairwise_max = np.maximum(pairwise_max, proba3)\n",
    "# print(pairwise_max)\n",
    "# my_list = proba1 == pairwise_max\n",
    "\n",
    "## get the right labels \n",
    "temp_boolean = pairwise_max == proba1 # should use names - dictionary \n",
    "temp_labels = ['Gryffindor' if elements == True else pairwise_max[i] for i, elements in enumerate(temp_boolean)]\n",
    "print(temp_labels)\n",
    "temp_boolean = temp_labels == proba2.astype(str)\n",
    "print(temp_boolean)\n",
    "## need to keep Gryffindor\n",
    "temp_labels = ['Ravenclaw' if elements == True else pairwise_max[i] for i, elements in enumerate(temp_boolean)]\n",
    "print(temp_labels)\n",
    "#temp_boolean = temp_boolean == proba3\n",
    "#temp_labels = ['Hufflepuff' if elements == True else pairwise_max[i] for i, elements in enumerate(temp_boolean)]\n",
    "#print(temp_labels)"
   ]
  },
  {
   "cell_type": "code",
   "execution_count": 74,
   "metadata": {},
   "outputs": [
    {
     "data": {
      "text/plain": [
       "array([False,  True, False, False,  True,  True,  True, False,  True,\n",
       "       False])"
      ]
     },
     "execution_count": 74,
     "metadata": {},
     "output_type": "execute_result"
    }
   ],
   "source": [
    "temp_boolean = pairwise_max == proba1 # should use names - dictionary \n",
    "temp_labels = ['Gryffindor' if elements == True else pairwise_max[i] for i, elements in enumerate(temp_boolean)]\n",
    "temp_labels == proba2.astype(str)    "
   ]
  },
  {
   "cell_type": "code",
   "execution_count": 34,
   "metadata": {},
   "outputs": [
    {
     "data": {
      "text/plain": [
       "['Gryffindor',\n",
       " 0.4464150488321146,\n",
       " 'Gryffindor',\n",
       " 'Gryffindor',\n",
       " nan,\n",
       " 0.5760282003202789,\n",
       " 0.568171636986707,\n",
       " 'Gryffindor',\n",
       " 0.5706423511383645,\n",
       " 'Gryffindor']"
      ]
     },
     "execution_count": 34,
     "metadata": {},
     "output_type": "execute_result"
    }
   ],
   "source": [
    "['Gryffindor' if elements == True else pairwise_max[i] for i, elements in enumerate(my_list)]"
   ]
  }
 ],
 "metadata": {
  "kernelspec": {
   "display_name": "Python 3",
   "language": "python",
   "name": "python3"
  },
  "language_info": {
   "codemirror_mode": {
    "name": "ipython",
    "version": 3
   },
   "file_extension": ".py",
   "mimetype": "text/x-python",
   "name": "python",
   "nbconvert_exporter": "python",
   "pygments_lexer": "ipython3",
   "version": "3.6.2"
  }
 },
 "nbformat": 4,
 "nbformat_minor": 2
}
