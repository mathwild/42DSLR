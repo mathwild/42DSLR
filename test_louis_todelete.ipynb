{
 "cells": [
  {
   "cell_type": "code",
   "execution_count": 1,
   "metadata": {
    "collapsed": true
   },
   "outputs": [],
   "source": [
    "import numpy as np\n",
    "from scipy import optimize \n",
    "\n",
    "from mydataset import MyDataSet\n",
    "from preprocessing import get_dummies, full_one_hot_encoder, to_matrix\n",
    "from louismodel import LogRegModel"
   ]
  },
  {
   "cell_type": "code",
   "execution_count": 2,
   "metadata": {
    "collapsed": true
   },
   "outputs": [],
   "source": [
    "import warnings\n",
    "warnings.filterwarnings(\"ignore\")"
   ]
  },
  {
   "cell_type": "code",
   "execution_count": 3,
   "metadata": {
    "collapsed": true
   },
   "outputs": [],
   "source": [
    "name_Y = 'Hogwarts House'"
   ]
  },
  {
   "cell_type": "code",
   "execution_count": 4,
   "metadata": {
    "collapsed": true
   },
   "outputs": [],
   "source": [
    "### TRAIN ###\n",
    "dataset_train = MyDataSet().read_csv('resources/dataset_train.csv')\n",
    "# getting X\n",
    "DictX = dataset_train[['Best Hand','Arithmancy', 'Astronomy']]\n",
    "DictX_encod = full_one_hot_encoder(DictX)\n",
    "X = to_matrix(DictX_encod)\n",
    "# getting Y\n",
    "Y = dataset_train[name_Y]\n",
    "###\n",
    "\n",
    "### TEST ### \n",
    "dataset_test = MyDataSet().read_csv('resources/dataset_test.csv')\n",
    "# getting X\n",
    "DictX_test = dataset_test[['Best Hand','Arithmancy', 'Astronomy']]\n",
    "DictX_encod_test = full_one_hot_encoder(DictX_test)\n",
    "X_test = to_matrix(DictX_encod_test)\n",
    "# adding intercept\n",
    "m, p = X_test.shape\n",
    "intercept = np.ones(m)\n",
    "X_test = np.column_stack((intercept,X_test))\n",
    "###\n",
    "\n",
    "### FIT ### \n",
    "model = LogRegModel()\n",
    "model.fit(Y, X_train = X)\n",
    "###"
   ]
  },
  {
   "cell_type": "code",
   "execution_count": 5,
   "metadata": {},
   "outputs": [
    {
     "name": "stdout",
     "output_type": "stream",
     "text": [
      "Slytherin [0.39845943 0.43596534 0.26272087 0.00534422 0.01660577 0.45199324\n",
      " 0.00750446 0.0144559  0.01126948 0.00965707]\n",
      "Ravenclaw [0.5794137  0.62868086 0.42057687 0.00915096 0.02940308 0.64556841\n",
      " 0.01298002 0.02676978 0.01982257 0.01764274]\n",
      "Hufflepuff [0.02342641 0.02559823 0.01756523 0.68143654 0.57115872 0.00676439\n",
      " 0.70050954 0.42448372 0.40197952 0.6241009 ]\n",
      "Gryffindor [0.02428039 0.02070912 0.02610548 0.47145509 0.33131854 0.01125072\n",
      " 0.4532703  0.25544811 0.2940972  0.35998956]\n"
     ]
    }
   ],
   "source": [
    "X = to_matrix(DictX_encod)\n",
    "m, p = X.shape\n",
    "intercept = np.ones(m)\n",
    "X = np.column_stack((intercept,X))\n",
    "indiv = X[:10]\n",
    "for house in set(model.coef.keys()):\n",
    "    coef = model.coef[house]\n",
    "    proba = np.exp(np.matmul(indiv,coef))/(1+(np.exp(np.matmul(indiv,coef))))\n",
    "    print(house, proba)"
   ]
  },
  {
   "cell_type": "code",
   "execution_count": 10,
   "metadata": {
    "collapsed": true
   },
   "outputs": [],
   "source": [
    "import pandas as pd\n",
    "#pd.DataFrame(dataset_train.df)"
   ]
  },
  {
   "cell_type": "markdown",
   "metadata": {},
   "source": [
    "# Validate using sklearn"
   ]
  },
  {
   "cell_type": "code",
   "execution_count": null,
   "metadata": {
    "collapsed": true
   },
   "outputs": [],
   "source": []
  }
 ],
 "metadata": {
  "kernelspec": {
   "display_name": "Python 3",
   "language": "python",
   "name": "python3"
  },
  "language_info": {
   "codemirror_mode": {
    "name": "ipython",
    "version": 3
   },
   "file_extension": ".py",
   "mimetype": "text/x-python",
   "name": "python",
   "nbconvert_exporter": "python",
   "pygments_lexer": "ipython3",
   "version": "3.6.2"
  }
 },
 "nbformat": 4,
 "nbformat_minor": 2
}
