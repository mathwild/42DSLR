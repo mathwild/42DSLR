{
 "cells": [
  {
   "cell_type": "code",
   "execution_count": null,
   "metadata": {
    "collapsed": true
   },
   "outputs": [],
   "source": [
    "import numpy as np\n",
    "from scipy import optimize \n",
    "\n",
    "from mydataset import MyDataSet\n",
    "from preprocessing import get_dummies, full_one_hot_encoder, to_matrix\n",
    "from louismodel import LogRegModel"
   ]
  },
  {
   "cell_type": "raw",
   "metadata": {
    "collapsed": true
   },
   "source": [
    "import warnings\n",
    "warnings.filterwarnings(\"ignore\")"
   ]
  },
  {
   "cell_type": "code",
   "execution_count": null,
   "metadata": {
    "collapsed": true
   },
   "outputs": [],
   "source": [
    "name_Y = 'Hogwarts House'"
   ]
  },
  {
   "cell_type": "code",
   "execution_count": null,
   "metadata": {},
   "outputs": [],
   "source": [
    "### TRAIN ###\n",
    "dataset_train = MyDataSet().read_csv('resources/dataset_train.csv')\n",
    "# getting X\n",
    "DictX = dataset_train[['Best Hand','Arithmancy', 'Astronomy']]\n",
    "#DictX = dataset_train[['Best Hand','Arithmancy', 'Astronomy', 'Herbology', 'Defense Against the Dark Arts', 'Divination', 'Muggle Studies',\n",
    "#                           'Ancient Runes', 'History of Magic', 'Transfiguration', 'Potions', 'Care of Magical Creatures', 'Charms', 'Flying']]\n",
    "DictX_encod = full_one_hot_encoder(DictX)\n",
    "X = to_matrix(DictX_encod)\n",
    "#m, p = X.shape\n",
    "#intercept = np.ones(m)\n",
    "#X = np.column_stack((intercept,X))\n",
    "# getting Y\n",
    "Y = dataset_train[name_Y]\n",
    "###\n",
    "\n",
    "### FIT ### \n",
    "model = LogRegModel()\n",
    "model.fit(Y, X_train = X)\n",
    "###"
   ]
  },
  {
   "cell_type": "code",
   "execution_count": null,
   "metadata": {},
   "outputs": [],
   "source": [
    "model.coef"
   ]
  },
  {
   "cell_type": "code",
   "execution_count": null,
   "metadata": {
    "collapsed": true
   },
   "outputs": [],
   "source": [
    "import pandas as pd\n",
    "#pd.DataFrame(dataset_train.df)"
   ]
  },
  {
   "cell_type": "markdown",
   "metadata": {},
   "source": [
    "# Validate using sklearn"
   ]
  },
  {
   "cell_type": "code",
   "execution_count": null,
   "metadata": {
    "collapsed": true
   },
   "outputs": [],
   "source": [
    "from sklearn.linear_model import LogisticRegression"
   ]
  },
  {
   "cell_type": "code",
   "execution_count": null,
   "metadata": {
    "collapsed": true
   },
   "outputs": [],
   "source": [
    "sk_model = LogisticRegression(random_state=0, solver='lbfgs',multi_class='multinomial')"
   ]
  },
  {
   "cell_type": "code",
   "execution_count": null,
   "metadata": {},
   "outputs": [],
   "source": [
    "temp_df = pd.DataFrame(X)\n",
    "temp_df['Y'] = list(Y.values())[0]\n",
    "temp_df = temp_df.copy().dropna()\n",
    "temp_X = temp_df.drop(['Y'], axis = 1)\n",
    "temp_Y = temp_df['Y']"
   ]
  },
  {
   "cell_type": "code",
   "execution_count": null,
   "metadata": {},
   "outputs": [],
   "source": [
    "sk_model.fit(temp_X, temp_Y)"
   ]
  },
  {
   "cell_type": "code",
   "execution_count": null,
   "metadata": {},
   "outputs": [],
   "source": [
    "print(sk_model.coef_) \n",
    "print(sk_model.intercept_)"
   ]
  },
  {
   "cell_type": "code",
   "execution_count": null,
   "metadata": {},
   "outputs": [],
   "source": [
    "sk_model.score(temp_X, temp_Y)"
   ]
  }
 ],
 "metadata": {
  "kernelspec": {
   "display_name": "Python 3",
   "language": "python",
   "name": "python3"
  },
  "language_info": {
   "codemirror_mode": {
    "name": "ipython",
    "version": 3
   },
   "file_extension": ".py",
   "mimetype": "text/x-python",
   "name": "python",
   "nbconvert_exporter": "python",
   "pygments_lexer": "ipython3",
   "version": "3.6.2"
  }
 },
 "nbformat": 4,
 "nbformat_minor": 2
}
