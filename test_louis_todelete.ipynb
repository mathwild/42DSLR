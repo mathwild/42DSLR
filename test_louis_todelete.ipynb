{
 "cells": [
  {
   "cell_type": "code",
   "execution_count": 1,
   "metadata": {
    "collapsed": true
   },
   "outputs": [],
   "source": [
    "import numpy as np\n",
    "from scipy import optimize \n",
    "\n",
    "from mydataset import MyDataSet\n",
    "from preprocessing import get_dummies, full_one_hot_encoder, to_matrix\n",
    "from louismodel import LogRegModel"
   ]
  },
  {
   "cell_type": "code",
   "execution_count": 2,
   "metadata": {
    "collapsed": true
   },
   "outputs": [],
   "source": [
    "name_Y = 'Hogwarts House'"
   ]
  },
  {
   "cell_type": "code",
   "execution_count": 3,
   "metadata": {},
   "outputs": [],
   "source": [
    "### TRAIN ###\n",
    "dataset_train = MyDataSet().read_csv('resources/dataset_train.csv')\n",
    "# getting X\n",
    "DictX = dataset_train[['Best Hand','Arithmancy', 'Astronomy']]\n",
    "#DictX = dataset_train[['Best Hand','Arithmancy', 'Astronomy', 'Herbology', 'Defense Against the Dark Arts', 'Divination', 'Muggle Studies',\n",
    "#                           'Ancient Runes', 'History of Magic', 'Transfiguration', 'Potions', 'Care of Magical Creatures', 'Charms', 'Flying']]\n",
    "DictX_encod = full_one_hot_encoder(DictX)\n",
    "X = to_matrix(DictX_encod)\n",
    "#m, p = X.shape\n",
    "#intercept = np.ones(m)\n",
    "#X = np.column_stack((intercept,X))\n",
    "# getting Y\n",
    "Y = dataset_train[name_Y]\n",
    "###\n",
    "\n",
    "### FIT ### \n",
    "#model = LogRegModel()\n",
    "#model.fit(Y, X_train = X)\n",
    "###"
   ]
  },
  {
   "cell_type": "code",
   "execution_count": 12,
   "metadata": {},
   "outputs": [],
   "source": [
    "Y_Dict = get_dummies(Y, name_Y)\n",
    "Y_mat = Y_Dict['Gryffindor']"
   ]
  },
  {
   "cell_type": "code",
   "execution_count": 13,
   "metadata": {},
   "outputs": [
    {
     "data": {
      "text/plain": [
       "1063.980922159516"
      ]
     },
     "execution_count": 13,
     "metadata": {},
     "output_type": "execute_result"
    }
   ],
   "source": [
    "n, p = X.shape\n",
    "beta = np.zeros(p)\n",
    "-np.nansum(Y_mat*np.matmul(X,beta) - np.log(1+np.exp(np.matmul(X,beta))))"
   ]
  },
  {
   "cell_type": "code",
   "execution_count": 7,
   "metadata": {},
   "outputs": [
    {
     "data": {
      "text/plain": [
       "array([[ 5.83840000e+04, -4.87886086e+02,  1.00000000e+00],\n",
       "       [ 6.72390000e+04, -5.52060507e+02,  0.00000000e+00],\n",
       "       [ 2.37020000e+04, -3.66076117e+02,  1.00000000e+00],\n",
       "       ...,\n",
       "       [ 6.39050000e+04,  5.44018925e+02,  0.00000000e+00],\n",
       "       [ 8.27130000e+04,  4.53676219e+02,  1.00000000e+00],\n",
       "       [ 4.86390000e+04,  6.88911989e+02,  1.00000000e+00]])"
      ]
     },
     "execution_count": 7,
     "metadata": {},
     "output_type": "execute_result"
    }
   ],
   "source": [
    "X"
   ]
  },
  {
   "cell_type": "markdown",
   "metadata": {},
   "source": [
    "# Validate using sklearn"
   ]
  },
  {
   "cell_type": "code",
   "execution_count": null,
   "metadata": {
    "collapsed": true
   },
   "outputs": [],
   "source": [
    "from sklearn.linear_model import LogisticRegression"
   ]
  },
  {
   "cell_type": "code",
   "execution_count": null,
   "metadata": {
    "collapsed": true
   },
   "outputs": [],
   "source": [
    "sk_model = LogisticRegression(random_state=0, solver='lbfgs',multi_class='multinomial')"
   ]
  },
  {
   "cell_type": "code",
   "execution_count": null,
   "metadata": {},
   "outputs": [],
   "source": [
    "temp_df = pd.DataFrame(X)\n",
    "temp_df['Y'] = list(Y.values())[0]\n",
    "temp_df = temp_df.copy().dropna()\n",
    "temp_X = temp_df.drop(['Y'], axis = 1)\n",
    "temp_Y = temp_df['Y']"
   ]
  },
  {
   "cell_type": "code",
   "execution_count": null,
   "metadata": {},
   "outputs": [],
   "source": [
    "sk_model.fit(temp_X, temp_Y)"
   ]
  },
  {
   "cell_type": "code",
   "execution_count": null,
   "metadata": {},
   "outputs": [],
   "source": [
    "print(sk_model.coef_) \n",
    "print(sk_model.intercept_)"
   ]
  },
  {
   "cell_type": "code",
   "execution_count": null,
   "metadata": {},
   "outputs": [],
   "source": [
    "sk_model.score(temp_X, temp_Y)"
   ]
  }
 ],
 "metadata": {
  "kernelspec": {
   "display_name": "Python 3",
   "language": "python",
   "name": "python3"
  },
  "language_info": {
   "codemirror_mode": {
    "name": "ipython",
    "version": 3
   },
   "file_extension": ".py",
   "mimetype": "text/x-python",
   "name": "python",
   "nbconvert_exporter": "python",
   "pygments_lexer": "ipython3",
   "version": "3.6.2"
  }
 },
 "nbformat": 4,
 "nbformat_minor": 2
}
